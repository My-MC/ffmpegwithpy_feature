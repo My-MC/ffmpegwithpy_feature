{
 "cells": [
  {
   "cell_type": "code",
   "execution_count": 1,
   "metadata": {},
   "outputs": [],
   "source": [
    "from pydantic import BaseModel\n",
    "from typing import Optional"
   ]
  },
  {
   "cell_type": "code",
   "execution_count": 2,
   "metadata": {},
   "outputs": [],
   "source": [
    "class get:\n",
    "    class Options(BaseModel):\n",
    "        qv: Optional[int]\n",
    "        ab: Optional[int]\n",
    "\n",
    "    def __init__(self, arg1, arg2, opt=None):\n",
    "        self.arg1 = arg1\n",
    "        self.arg2 = arg2\n",
    "        self.opt = opt\n",
    "\n",
    "    def rearg(self):\n",
    "        return self.arg1\n",
    "\n",
    "    def reopt(self):\n",
    "        return f\"ab is: {self.opt.ab}\""
   ]
  },
  {
   "cell_type": "code",
   "execution_count": 3,
   "metadata": {},
   "outputs": [
    {
     "data": {
      "text/plain": [
       "'aa'"
      ]
     },
     "execution_count": 3,
     "metadata": {},
     "output_type": "execute_result"
    }
   ],
   "source": [
    "get(\"aa\", \"aaaa\").rearg()"
   ]
  },
  {
   "cell_type": "code",
   "execution_count": 4,
   "metadata": {},
   "outputs": [],
   "source": [
    "test = {\n",
    "    \"qv\": 1,\n",
    "}"
   ]
  },
  {
   "cell_type": "code",
   "execution_count": 5,
   "metadata": {},
   "outputs": [],
   "source": [
    "option = get.Options(**test)"
   ]
  },
  {
   "cell_type": "code",
   "execution_count": 6,
   "metadata": {},
   "outputs": [
    {
     "data": {
      "text/plain": [
       "'ab is: None'"
      ]
     },
     "execution_count": 6,
     "metadata": {},
     "output_type": "execute_result"
    }
   ],
   "source": [
    "get(\"aa\", \"aaaa\", option).reopt()"
   ]
  }
 ],
 "metadata": {
  "kernelspec": {
   "display_name": "Python 3.10.4 ('.venv': poetry)",
   "language": "python",
   "name": "python3"
  },
  "language_info": {
   "codemirror_mode": {
    "name": "ipython",
    "version": 3
   },
   "file_extension": ".py",
   "mimetype": "text/x-python",
   "name": "python",
   "nbconvert_exporter": "python",
   "pygments_lexer": "ipython3",
   "version": "3.10.4"
  },
  "orig_nbformat": 4,
  "vscode": {
   "interpreter": {
    "hash": "cd079b5217d22302929349e1c9bdfcd26928cb731cff1126c86f235ae3c19cee"
   }
  }
 },
 "nbformat": 4,
 "nbformat_minor": 2
}
